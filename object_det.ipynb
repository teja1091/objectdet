{
  "nbformat": 4,
  "nbformat_minor": 0,
  "metadata": {
    "colab": {
      "provenance": [],
      "authorship_tag": "ABX9TyPfL1nZDnky+Dwi6DVwyQIK",
      "include_colab_link": true
    },
    "kernelspec": {
      "name": "python3",
      "display_name": "Python 3"
    },
    "language_info": {
      "name": "python"
    }
  },
  "cells": [
    {
      "cell_type": "markdown",
      "metadata": {
        "id": "view-in-github",
        "colab_type": "text"
      },
      "source": [
        "<a href=\"https://colab.research.google.com/github/teja1091/objectdet/blob/main/object_det.ipynb\" target=\"_parent\"><img src=\"https://colab.research.google.com/assets/colab-badge.svg\" alt=\"Open In Colab\"/></a>"
      ]
    },
    {
      "cell_type": "code",
      "execution_count": null,
      "metadata": {
        "id": "ciTkHQWTdNQx"
      },
      "outputs": [],
      "source": [
        "!pip install ultralytics -q\n",
        "!pip install pyyaml -q\n",
        "\n",
        "from ultralytics import YOLO\n",
        "import yaml\n",
        "import cv2\n",
        "from google.colab.patches import cv2_imshow\n",
        "\n",
        "model = YOLO(\"yolov8n.pt\")"
      ]
    },
    {
      "cell_type": "code",
      "source": [
        "model.predict(\"/content/sample_data/mind.jpeg\", save=True, save_txt=True)"
      ],
      "metadata": {
        "id": "cQOHizNwdubZ"
      },
      "execution_count": null,
      "outputs": []
    },
    {
      "cell_type": "code",
      "source": [
        "names = {\n",
        "    22: 'zebra', 23: 'giraffe', 24: 'backpack', 25: 'umbrella', 26: 'handbag',\n",
        "    27: 'tie', 28: 'suitcase', 29: 'frisbee', 30: 'skis', 31: 'snowboard',\n",
        "    32: 'sports ball', 33: 'kite', 34: 'baseball bat', 35: 'baseball glove',\n",
        "    36: 'skateboard', 37: 'surfboard', 38: 'tennis racket', 39: 'bottle',\n",
        "    40: 'wine glass', 41: 'cup', 42: 'fork', 43: 'knife', 44: 'tomato', 45: 'bowl',\n",
        "    46: 'banana', 47: 'apple', 48: 'sandwich', 49: 'orange', 50: 'broccoli',\n",
        "    51: 'carrot', 52: 'hot dog', 53: 'pizza', 54: 'donut', 55: 'cake', 56: 'chair',\n",
        "    57: 'man', 58: 'potted plant', 59: 'bed', 60: 'dining table', 61: 'toilet',\n",
        "    62: 'tv', 63: 'laptop', 64: 'car', 65: 'remote', 66: 'keyboard',\n",
        "    67: 'cell phone', 68: 'microwave', 69: 'oven', 70: 'toaster', 71: 'sink',\n",
        "    72: 'refrigerator', 73: 'book', 74: 'clock', 75: 'vase', 76: 'scissors',\n",
        "    77: 'teddy bear', 78: 'hair drier', 79: 'toothbrush'\n",
        "}"
      ],
      "metadata": {
        "id": "QSk96NbseKu0"
      },
      "execution_count": 3,
      "outputs": []
    },
    {
      "cell_type": "code",
      "source": [
        "with open(\"/content/runs/detect/predict/labels/mind.txt\", \"r\") as stream:\n",
        "    lis = stream.readlines()\n",
        "\n",
        "# Process predictions, handling potential KeyErrors\n",
        "for l in lis:\n",
        "    ind = int(l.split()[0])\n",
        "    try:\n",
        "        print(ind, names[ind])\n",
        "    except KeyError:\n",
        "        print(f\"Warning: Class index {ind} not found in the 'names' dictionary.\")\n"
      ],
      "metadata": {
        "id": "9jlVZAfJXx8E"
      },
      "execution_count": null,
      "outputs": []
    },
    {
      "cell_type": "code",
      "source": [
        "for l in lis:\n",
        "    li = l.split()\n",
        "    xc, yc, nw, nh = float(li[1]), float(li[2]), float(li[3]), float(li[4])\n",
        "    img = cv2.imread(\"/content/sample_data/mind.jpeg\")\n",
        "    h, w = img.shape[0], img.shape[1]\n",
        "    xc *= w\n",
        "    yc *= h\n",
        "    nw *= w\n",
        "    nh *= h\n",
        "    top_left = (int(xc - nw/2), int(yc - nh/2))\n",
        "    bot_right = (int(xc + nw/2), int(yc + nh/2))\n",
        "    img = cv2.rectangle(img, top_left, bot_right, (0, 255, 0), 3)\n",
        "    cv2_imshow(img)"
      ],
      "metadata": {
        "id": "SKzCzXFwePwO"
      },
      "execution_count": null,
      "outputs": []
    }
  ]
}